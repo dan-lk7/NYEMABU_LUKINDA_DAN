{
 "cells": [
  {
   "cell_type": "markdown",
   "id": "c2909830-009c-4665-aa0d-07a835e1541e",
   "metadata": {},
   "source": [
    "# A.IMPORTATION DES LIBRAIRIES"
   ]
  },
  {
   "cell_type": "code",
   "execution_count": 4,
   "id": "366851c1-55db-4c37-a7bd-e8768e861945",
   "metadata": {},
   "outputs": [],
   "source": [
    "# Importation de libraries"
   ]
  },
  {
   "cell_type": "code",
   "execution_count": 5,
   "id": "14b7036a-31da-4d6b-8734-fab409c6a336",
   "metadata": {},
   "outputs": [],
   "source": [
    "import numpy as np"
   ]
  },
  {
   "cell_type": "markdown",
   "id": "e42de4e2-ac38-406e-aab5-e07caf0a18e5",
   "metadata": {},
   "source": [
    "# 1. Tableau"
   ]
  },
  {
   "cell_type": "markdown",
   "id": "ad6d187b-e449-4b4c-a4b5-2ec1b7cc682b",
   "metadata": {},
   "source": [
    "## 1.1 Tableau a 1 D"
   ]
  },
  {
   "cell_type": "code",
   "execution_count": 6,
   "id": "2896fdd2-0131-49d2-8554-aac3d26688b1",
   "metadata": {},
   "outputs": [],
   "source": [
    "# Cration d'un tableau a 1D\n",
    "tab_1D = np.array([2, 4, 6, 8, 10, 12, 14])"
   ]
  },
  {
   "cell_type": "code",
   "execution_count": 7,
   "id": "5fd795aa-b297-41dc-bd84-d24b4c5390fc",
   "metadata": {},
   "outputs": [
    {
     "data": {
      "text/plain": [
       "array([ 2,  4,  6,  8, 10, 12, 14])"
      ]
     },
     "execution_count": 7,
     "metadata": {},
     "output_type": "execute_result"
    }
   ],
   "source": [
    "tab_1D"
   ]
  },
  {
   "cell_type": "code",
   "execution_count": 8,
   "id": "5893d133-677f-4060-9c56-e4fc6936bf9f",
   "metadata": {},
   "outputs": [
    {
     "name": "stdout",
     "output_type": "stream",
     "text": [
      "[ 2  4  6  8 10 12 14]\n"
     ]
    }
   ],
   "source": [
    "print(tab_1D)"
   ]
  },
  {
   "cell_type": "code",
   "execution_count": 9,
   "id": "2ad70349-3732-453a-bb47-7c67d10277c3",
   "metadata": {},
   "outputs": [
    {
     "name": "stdout",
     "output_type": "stream",
     "text": [
      "(7,)\n"
     ]
    }
   ],
   "source": [
    "print(tab_1D.shape)"
   ]
  },
  {
   "cell_type": "code",
   "execution_count": 10,
   "id": "1a33d687-a96d-4212-b366-3e6295f446b6",
   "metadata": {},
   "outputs": [
    {
     "data": {
      "text/plain": [
       "numpy.ndarray"
      ]
     },
     "execution_count": 10,
     "metadata": {},
     "output_type": "execute_result"
    }
   ],
   "source": [
    "type(tab_1D)"
   ]
  },
  {
   "cell_type": "code",
   "execution_count": 11,
   "id": "4d5a97d3-1720-4d41-a40f-9287c6bf58c1",
   "metadata": {},
   "outputs": [
    {
     "name": "stdout",
     "output_type": "stream",
     "text": [
      "Dimension du Tableau (7,)\n",
      "Type du Tableau <class 'numpy.ndarray'>\n",
      "Voici le Tableau: [ 2  4  6  8 10 12 14]\n"
     ]
    }
   ],
   "source": [
    "print(\"Dimension du Tableau\", tab_1D.shape)\n",
    "print(\"Type du Tableau\", type(tab_1D))\n",
    "print(\"Voici le Tableau:\", tab_1D)"
   ]
  },
  {
   "cell_type": "markdown",
   "id": "bbfef804-1757-4a9b-a5e3-2c28de2ffe5b",
   "metadata": {},
   "source": [
    "# 1.2 Tableau 2D"
   ]
  },
  {
   "cell_type": "code",
   "execution_count": 12,
   "id": "717fb648-ba90-4c4c-8722-353d2a77d8cb",
   "metadata": {},
   "outputs": [],
   "source": [
    "# Creaton d'un tableau a 2D\n",
    "tab_2D = np.array([\n",
    "    [1, 3, 5, 7, 8],\n",
    "    [11, 33, 55, 77, 88],\n",
    "    [10, 30, 50, 70, 80]\n",
    "])"
   ]
  },
  {
   "cell_type": "code",
   "execution_count": 13,
   "id": "5f73cb04-87a5-451c-a097-0ee899d806dd",
   "metadata": {},
   "outputs": [
    {
     "name": "stdout",
     "output_type": "stream",
     "text": [
      "Dimension du Tableau (3, 5)\n",
      "Type du Tableau <class 'numpy.ndarray'>\n",
      "[[ 1  3  5  7  8]\n",
      " [11 33 55 77 88]\n",
      " [10 30 50 70 80]]\n"
     ]
    }
   ],
   "source": [
    "print(\"Dimension du Tableau\", tab_2D.shape)\n",
    "print(\"Type du Tableau\", type(tab_2D))\n",
    "print(tab_2D)"
   ]
  },
  {
   "cell_type": "markdown",
   "id": "c154d3a2-96b4-4486-8f1f-9147c8728b01",
   "metadata": {},
   "source": [
    "## 1.3 Tableau 3D"
   ]
  },
  {
   "cell_type": "code",
   "execution_count": 14,
   "id": "4324c36b-3aac-4f36-90b7-46b2d5404f47",
   "metadata": {},
   "outputs": [],
   "source": [
    "# Creation d'un tableeau 3D\n",
    "tab_3D = np.array([[\n",
    "    [11, 9, 7, 5, 3, 1],\n",
    "    [110, 90, 70, 50, 30, 10],\n",
    "    [115, 95, 75, 55, 35, 15],\n",
    "    [1100, 900, 700, 500, 300, 100],\n",
    "]])"
   ]
  },
  {
   "cell_type": "code",
   "execution_count": 15,
   "id": "71227ae1-4390-4358-b141-27d34c733a94",
   "metadata": {},
   "outputs": [
    {
     "name": "stdout",
     "output_type": "stream",
     "text": [
      "Dimension du Tableau (1, 4, 6)\n",
      "Type du Tableau <class 'numpy.ndarray'>\n",
      "[[[  11    9    7    5    3    1]\n",
      "  [ 110   90   70   50   30   10]\n",
      "  [ 115   95   75   55   35   15]\n",
      "  [1100  900  700  500  300  100]]]\n"
     ]
    }
   ],
   "source": [
    "print(\"Dimension du Tableau\", tab_3D.shape)\n",
    "print(\"Type du Tableau\", type(tab_3D))\n",
    "print(tab_3D)"
   ]
  },
  {
   "cell_type": "markdown",
   "id": "4b78ad55-9e29-41d2-b4eb-9fbb43c01097",
   "metadata": {},
   "source": [
    "## 1.4 Tableau a 4D"
   ]
  },
  {
   "cell_type": "code",
   "execution_count": 17,
   "id": "2d8202c9-8f05-4a6f-a67d-9f635f102e9e",
   "metadata": {},
   "outputs": [],
   "source": [
    "# Creation d'un Tableau a 4D\n",
    "tab_4D = np.array([[[\n",
    "    [2, 4, 6, 8, 10],\n",
    "    [25, 45, 65, 85, 105],\n",
    "    [20, 40, 60, 80, 100],\n",
    "]]])"
   ]
  },
  {
   "cell_type": "code",
   "execution_count": 18,
   "id": "9d63246a-1678-4d9a-99cf-16fea626dad1",
   "metadata": {},
   "outputs": [
    {
     "name": "stdout",
     "output_type": "stream",
     "text": [
      "Dimension du Tableau (1, 1, 3, 5)\n",
      "Type du Tableau <class 'numpy.ndarray'>\n",
      "[[[[  2   4   6   8  10]\n",
      "   [ 25  45  65  85 105]\n",
      "   [ 20  40  60  80 100]]]]\n"
     ]
    }
   ],
   "source": [
    "print(\"Dimension du Tableau\", tab_4D.shape)\n",
    "print(\"Type du Tableau\", type(tab_4D))\n",
    "print(tab_4D)"
   ]
  },
  {
   "cell_type": "markdown",
   "id": "6421e33f-4462-4c95-aaa6-46f65e99d949",
   "metadata": {},
   "source": [
    "# B. OPERATIONS"
   ]
  },
  {
   "cell_type": "code",
   "execution_count": 19,
   "id": "3e3705c6-f28e-467e-bc59-8cfc301e7e32",
   "metadata": {},
   "outputs": [],
   "source": [
    "a = np.array([\n",
    "    [2,4,6,8],\n",
    "    [25,45,65,85]\n",
    "])\n",
    "b = np.array([\n",
    "    [20,40,60,80],\n",
    "    [250,450,650,850]\n",
    "])"
   ]
  },
  {
   "cell_type": "code",
   "execution_count": 20,
   "id": "2882222c-9dab-4dcd-9165-f9dbcb97d4d4",
   "metadata": {},
   "outputs": [
    {
     "name": "stdout",
     "output_type": "stream",
     "text": [
      "(2, 4)\n",
      "[[ 2  4  6  8]\n",
      " [25 45 65 85]]\n",
      "(2, 4)\n",
      "[[ 20  40  60  80]\n",
      " [250 450 650 850]]\n"
     ]
    }
   ],
   "source": [
    "print(a.shape)\n",
    "print(a)\n",
    "print(b.shape)\n",
    "print(b)"
   ]
  },
  {
   "cell_type": "code",
   "execution_count": 21,
   "id": "9e43740c-4edd-4a36-b25b-7efdcd08b673",
   "metadata": {},
   "outputs": [
    {
     "data": {
      "text/plain": [
       "array([[ 22,  44,  66,  88],\n",
       "       [275, 495, 715, 935]])"
      ]
     },
     "execution_count": 21,
     "metadata": {},
     "output_type": "execute_result"
    }
   ],
   "source": [
    "# addition\n",
    "a + b"
   ]
  },
  {
   "cell_type": "code",
   "execution_count": 22,
   "id": "832b04b7-796b-4d38-9c62-d0327938a275",
   "metadata": {},
   "outputs": [
    {
     "data": {
      "text/plain": [
       "array([[ -18,  -36,  -54,  -72],\n",
       "       [-225, -405, -585, -765]])"
      ]
     },
     "execution_count": 22,
     "metadata": {},
     "output_type": "execute_result"
    }
   ],
   "source": [
    "# soustraction\n",
    "a - b"
   ]
  },
  {
   "cell_type": "code",
   "execution_count": 23,
   "id": "4b450459-e0cf-4d2a-8854-e470d5ffcc33",
   "metadata": {},
   "outputs": [
    {
     "data": {
      "text/plain": [
       "array([[   40,   160,   360,   640],\n",
       "       [ 6250, 20250, 42250, 72250]])"
      ]
     },
     "execution_count": 23,
     "metadata": {},
     "output_type": "execute_result"
    }
   ],
   "source": [
    "# multiplication\n",
    "a * b"
   ]
  },
  {
   "cell_type": "code",
   "execution_count": 24,
   "id": "6aab5a58-b3d4-43fc-91ec-fda15c6441e7",
   "metadata": {},
   "outputs": [
    {
     "data": {
      "text/plain": [
       "array([[0.1, 0.1, 0.1, 0.1],\n",
       "       [0.1, 0.1, 0.1, 0.1]])"
      ]
     },
     "execution_count": 24,
     "metadata": {},
     "output_type": "execute_result"
    }
   ],
   "source": [
    "# division\n",
    "a / b"
   ]
  },
  {
   "cell_type": "markdown",
   "id": "4e39f49e-08fd-4e27-91bf-56cd52eb0cea",
   "metadata": {},
   "source": [
    "# C. MANIPULATION"
   ]
  },
  {
   "cell_type": "code",
   "execution_count": 25,
   "id": "ab7705f0-c312-4e8a-9be8-e84bcc287570",
   "metadata": {},
   "outputs": [],
   "source": [
    "# Creation d'un dictionnaire\n",
    "info_etudiants ={\n",
    "    'Matricule':'2022020131',\n",
    "    'nom':'NYEMABU',\n",
    "    'prenom':'Dan',\n",
    "    'age':20,\n",
    "    'GPA': 'A'\n",
    "}"
   ]
  },
  {
   "cell_type": "code",
   "execution_count": 26,
   "id": "500f6e50-0370-4771-8380-fef87e0e1747",
   "metadata": {},
   "outputs": [
    {
     "data": {
      "text/plain": [
       "{'Matricule': '2022020131',\n",
       " 'nom': 'NYEMABU',\n",
       " 'prenom': 'Dan',\n",
       " 'age': 20,\n",
       " 'GPA': 'A'}"
      ]
     },
     "execution_count": 26,
     "metadata": {},
     "output_type": "execute_result"
    }
   ],
   "source": [
    "info_etudiants"
   ]
  },
  {
   "cell_type": "code",
   "execution_count": 27,
   "id": "dae5c397-2773-4d0e-aca5-4d1dcbe2f010",
   "metadata": {},
   "outputs": [
    {
     "name": "stdout",
     "output_type": "stream",
     "text": [
      "{'Matricule': '2022020131', 'nom': 'NYEMABU', 'prenom': 'Dan', 'age': 20, 'GPA': 'A'}\n"
     ]
    }
   ],
   "source": [
    "print(info_etudiants)"
   ]
  },
  {
   "cell_type": "code",
   "execution_count": 28,
   "id": "65e0e1fc-f6aa-4fe3-85a3-a50604f9bae3",
   "metadata": {},
   "outputs": [],
   "source": [
    "info_tous_les_etudiants_BAC_GL_IA ={\n",
    "    'Matricule':['2022020131', '2022020062', '2022020042', '2022020054'],\n",
    "    'Nom': ['Moka','Muleli','Nyemabu','Masimango'],\n",
    "    'Prenom':['Gedeon','Alpha','Dan','Prince'],\n",
    "    'Age':['23','19','20','54'],\n",
    "    'GPA':['A','B','C','B']\n",
    "}"
   ]
  },
  {
   "cell_type": "code",
   "execution_count": 30,
   "id": "0985a11f-fe39-4dc5-a3d7-2dbddbfd70d6",
   "metadata": {},
   "outputs": [
    {
     "data": {
      "text/plain": [
       "{'Matricule': ['2022020131', '2022020062', '2022020042', '2022020054'],\n",
       " 'Nom': ['Moka', 'Muleli', 'Nyemabu', 'Masimango'],\n",
       " 'Prenom': ['Gedeon', 'Alpha', 'Dan', 'Prince'],\n",
       " 'Age': ['23', '19', '20', '54'],\n",
       " 'GPA': ['A', 'B', 'C', 'B']}"
      ]
     },
     "execution_count": 30,
     "metadata": {},
     "output_type": "execute_result"
    }
   ],
   "source": [
    "info_tous_les_etudiants_BAC_GL_IA"
   ]
  },
  {
   "cell_type": "code",
   "execution_count": 31,
   "id": "690bf871-0f96-44eb-af1e-b3722f859c13",
   "metadata": {},
   "outputs": [
    {
     "name": "stdout",
     "output_type": "stream",
     "text": [
      "{'Matricule': ['2022020131', '2022020062', '2022020042', '2022020054'], 'Nom': ['Moka', 'Muleli', 'Nyemabu', 'Masimango'], 'Prenom': ['Gedeon', 'Alpha', 'Dan', 'Prince'], 'Age': ['23', '19', '20', '54'], 'GPA': ['A', 'B', 'C', 'B']}\n"
     ]
    }
   ],
   "source": [
    "print(info_tous_les_etudiants_BAC_GL_IA)"
   ]
  },
  {
   "cell_type": "code",
   "execution_count": 34,
   "id": "e3e7c661-e5a7-495e-842d-65c910c26052",
   "metadata": {},
   "outputs": [],
   "source": [
    "import pandas as pd"
   ]
  },
  {
   "cell_type": "code",
   "execution_count": 36,
   "id": "f0a2217b-1f66-4c57-8793-e64fa0a0b1ca",
   "metadata": {},
   "outputs": [],
   "source": [
    "donnees_etudiants = pd.DataFrame(info_tous_les_etudiants_BAC_GL_IA)"
   ]
  },
  {
   "cell_type": "code",
   "execution_count": 37,
   "id": "a9bd6322-b77a-4702-b27f-9c7eac5223e7",
   "metadata": {},
   "outputs": [
    {
     "data": {
      "text/html": [
       "<div>\n",
       "<style scoped>\n",
       "    .dataframe tbody tr th:only-of-type {\n",
       "        vertical-align: middle;\n",
       "    }\n",
       "\n",
       "    .dataframe tbody tr th {\n",
       "        vertical-align: top;\n",
       "    }\n",
       "\n",
       "    .dataframe thead th {\n",
       "        text-align: right;\n",
       "    }\n",
       "</style>\n",
       "<table border=\"1\" class=\"dataframe\">\n",
       "  <thead>\n",
       "    <tr style=\"text-align: right;\">\n",
       "      <th></th>\n",
       "      <th>Matricule</th>\n",
       "      <th>Nom</th>\n",
       "      <th>Prenom</th>\n",
       "      <th>Age</th>\n",
       "      <th>GPA</th>\n",
       "    </tr>\n",
       "  </thead>\n",
       "  <tbody>\n",
       "    <tr>\n",
       "      <th>0</th>\n",
       "      <td>2022020131</td>\n",
       "      <td>Moka</td>\n",
       "      <td>Gedeon</td>\n",
       "      <td>23</td>\n",
       "      <td>A</td>\n",
       "    </tr>\n",
       "    <tr>\n",
       "      <th>1</th>\n",
       "      <td>2022020062</td>\n",
       "      <td>Muleli</td>\n",
       "      <td>Alpha</td>\n",
       "      <td>19</td>\n",
       "      <td>B</td>\n",
       "    </tr>\n",
       "    <tr>\n",
       "      <th>2</th>\n",
       "      <td>2022020042</td>\n",
       "      <td>Nyemabu</td>\n",
       "      <td>Dan</td>\n",
       "      <td>20</td>\n",
       "      <td>C</td>\n",
       "    </tr>\n",
       "    <tr>\n",
       "      <th>3</th>\n",
       "      <td>2022020054</td>\n",
       "      <td>Masimango</td>\n",
       "      <td>Prince</td>\n",
       "      <td>54</td>\n",
       "      <td>B</td>\n",
       "    </tr>\n",
       "  </tbody>\n",
       "</table>\n",
       "</div>"
      ],
      "text/plain": [
       "    Matricule        Nom  Prenom Age GPA\n",
       "0  2022020131       Moka  Gedeon  23   A\n",
       "1  2022020062     Muleli   Alpha  19   B\n",
       "2  2022020042    Nyemabu     Dan  20   C\n",
       "3  2022020054  Masimango  Prince  54   B"
      ]
     },
     "execution_count": 37,
     "metadata": {},
     "output_type": "execute_result"
    }
   ],
   "source": [
    "donnees_etudiants"
   ]
  },
  {
   "cell_type": "code",
   "execution_count": 38,
   "id": "10af4bbe-a15e-4ace-a17d-9ba4107bb451",
   "metadata": {},
   "outputs": [
    {
     "data": {
      "text/html": [
       "<div>\n",
       "<style scoped>\n",
       "    .dataframe tbody tr th:only-of-type {\n",
       "        vertical-align: middle;\n",
       "    }\n",
       "\n",
       "    .dataframe tbody tr th {\n",
       "        vertical-align: top;\n",
       "    }\n",
       "\n",
       "    .dataframe thead th {\n",
       "        text-align: right;\n",
       "    }\n",
       "</style>\n",
       "<table border=\"1\" class=\"dataframe\">\n",
       "  <thead>\n",
       "    <tr style=\"text-align: right;\">\n",
       "      <th></th>\n",
       "      <th>Matricule</th>\n",
       "      <th>Nom</th>\n",
       "      <th>Prenom</th>\n",
       "      <th>Age</th>\n",
       "      <th>GPA</th>\n",
       "    </tr>\n",
       "  </thead>\n",
       "  <tbody>\n",
       "    <tr>\n",
       "      <th>0</th>\n",
       "      <td>2022020131</td>\n",
       "      <td>Moka</td>\n",
       "      <td>Gedeon</td>\n",
       "      <td>23</td>\n",
       "      <td>A</td>\n",
       "    </tr>\n",
       "    <tr>\n",
       "      <th>1</th>\n",
       "      <td>2022020062</td>\n",
       "      <td>Muleli</td>\n",
       "      <td>Alpha</td>\n",
       "      <td>19</td>\n",
       "      <td>B</td>\n",
       "    </tr>\n",
       "    <tr>\n",
       "      <th>2</th>\n",
       "      <td>2022020042</td>\n",
       "      <td>Nyemabu</td>\n",
       "      <td>Dan</td>\n",
       "      <td>20</td>\n",
       "      <td>C</td>\n",
       "    </tr>\n",
       "    <tr>\n",
       "      <th>3</th>\n",
       "      <td>2022020054</td>\n",
       "      <td>Masimango</td>\n",
       "      <td>Prince</td>\n",
       "      <td>54</td>\n",
       "      <td>B</td>\n",
       "    </tr>\n",
       "  </tbody>\n",
       "</table>\n",
       "</div>"
      ],
      "text/plain": [
       "    Matricule        Nom  Prenom Age GPA\n",
       "0  2022020131       Moka  Gedeon  23   A\n",
       "1  2022020062     Muleli   Alpha  19   B\n",
       "2  2022020042    Nyemabu     Dan  20   C\n",
       "3  2022020054  Masimango  Prince  54   B"
      ]
     },
     "execution_count": 38,
     "metadata": {},
     "output_type": "execute_result"
    }
   ],
   "source": [
    "donnees_etudiants.head(4)"
   ]
  },
  {
   "cell_type": "code",
   "execution_count": 40,
   "id": "f0a4ae96-c96d-4975-989d-ad7067d03030",
   "metadata": {},
   "outputs": [
    {
     "data": {
      "text/html": [
       "<div>\n",
       "<style scoped>\n",
       "    .dataframe tbody tr th:only-of-type {\n",
       "        vertical-align: middle;\n",
       "    }\n",
       "\n",
       "    .dataframe tbody tr th {\n",
       "        vertical-align: top;\n",
       "    }\n",
       "\n",
       "    .dataframe thead th {\n",
       "        text-align: right;\n",
       "    }\n",
       "</style>\n",
       "<table border=\"1\" class=\"dataframe\">\n",
       "  <thead>\n",
       "    <tr style=\"text-align: right;\">\n",
       "      <th></th>\n",
       "      <th>Matricule</th>\n",
       "      <th>Nom</th>\n",
       "      <th>Prenom</th>\n",
       "      <th>Age</th>\n",
       "      <th>GPA</th>\n",
       "    </tr>\n",
       "  </thead>\n",
       "  <tbody>\n",
       "    <tr>\n",
       "      <th>2</th>\n",
       "      <td>2022020042</td>\n",
       "      <td>Nyemabu</td>\n",
       "      <td>Dan</td>\n",
       "      <td>20</td>\n",
       "      <td>C</td>\n",
       "    </tr>\n",
       "    <tr>\n",
       "      <th>3</th>\n",
       "      <td>2022020054</td>\n",
       "      <td>Masimango</td>\n",
       "      <td>Prince</td>\n",
       "      <td>54</td>\n",
       "      <td>B</td>\n",
       "    </tr>\n",
       "  </tbody>\n",
       "</table>\n",
       "</div>"
      ],
      "text/plain": [
       "    Matricule        Nom  Prenom Age GPA\n",
       "2  2022020042    Nyemabu     Dan  20   C\n",
       "3  2022020054  Masimango  Prince  54   B"
      ]
     },
     "execution_count": 40,
     "metadata": {},
     "output_type": "execute_result"
    }
   ],
   "source": [
    "donnees_etudiants.tail(2)"
   ]
  },
  {
   "cell_type": "code",
   "execution_count": 41,
   "id": "b79f9ca4-5720-4bcf-9b25-d9bc4e5895f5",
   "metadata": {},
   "outputs": [
    {
     "name": "stdout",
     "output_type": "stream",
     "text": [
      "    Matricule        Nom  Prenom Age GPA\n",
      "0  2022020131       Moka  Gedeon  23   A\n",
      "1  2022020062     Muleli   Alpha  19   B\n",
      "2  2022020042    Nyemabu     Dan  20   C\n",
      "3  2022020054  Masimango  Prince  54   B\n"
     ]
    }
   ],
   "source": [
    "print(donnees_etudiants)"
   ]
  },
  {
   "cell_type": "code",
   "execution_count": 44,
   "id": "07cd170b-e50a-46c5-9c3b-f71567501b66",
   "metadata": {},
   "outputs": [
    {
     "data": {
      "text/plain": [
       "0    2022020131\n",
       "1    2022020062\n",
       "2    2022020042\n",
       "3    2022020054\n",
       "Name: Matricule, dtype: object"
      ]
     },
     "execution_count": 44,
     "metadata": {},
     "output_type": "execute_result"
    }
   ],
   "source": [
    "    donnees_etudiants['Matricule']"
   ]
  },
  {
   "cell_type": "code",
   "execution_count": 55,
   "id": "8df60f43-0d24-4e86-98b7-f8aa40caf60b",
   "metadata": {},
   "outputs": [
    {
     "data": {
      "text/html": [
       "<div>\n",
       "<style scoped>\n",
       "    .dataframe tbody tr th:only-of-type {\n",
       "        vertical-align: middle;\n",
       "    }\n",
       "\n",
       "    .dataframe tbody tr th {\n",
       "        vertical-align: top;\n",
       "    }\n",
       "\n",
       "    .dataframe thead th {\n",
       "        text-align: right;\n",
       "    }\n",
       "</style>\n",
       "<table border=\"1\" class=\"dataframe\">\n",
       "  <thead>\n",
       "    <tr style=\"text-align: right;\">\n",
       "      <th></th>\n",
       "      <th>Matricule</th>\n",
       "      <th>Nom</th>\n",
       "    </tr>\n",
       "  </thead>\n",
       "  <tbody>\n",
       "    <tr>\n",
       "      <th>0</th>\n",
       "      <td>2022020131</td>\n",
       "      <td>Moka</td>\n",
       "    </tr>\n",
       "    <tr>\n",
       "      <th>1</th>\n",
       "      <td>2022020062</td>\n",
       "      <td>Muleli</td>\n",
       "    </tr>\n",
       "    <tr>\n",
       "      <th>2</th>\n",
       "      <td>2022020042</td>\n",
       "      <td>Nyemabu</td>\n",
       "    </tr>\n",
       "    <tr>\n",
       "      <th>3</th>\n",
       "      <td>2022020054</td>\n",
       "      <td>Masimango</td>\n",
       "    </tr>\n",
       "  </tbody>\n",
       "</table>\n",
       "</div>"
      ],
      "text/plain": [
       "    Matricule        Nom\n",
       "0  2022020131       Moka\n",
       "1  2022020062     Muleli\n",
       "2  2022020042    Nyemabu\n",
       "3  2022020054  Masimango"
      ]
     },
     "execution_count": 55,
     "metadata": {},
     "output_type": "execute_result"
    }
   ],
   "source": [
    "#Affiche les matricules et les noms des deux colonnes donc 2 dimensions\n",
    "donnees_etudiants[['Matricule','Nom']]"
   ]
  },
  {
   "cell_type": "code",
   "execution_count": 51,
   "id": "ee034f81-ed5c-4abf-990d-3219ef2e45b2",
   "metadata": {},
   "outputs": [
    {
     "data": {
      "text/html": [
       "<div>\n",
       "<style scoped>\n",
       "    .dataframe tbody tr th:only-of-type {\n",
       "        vertical-align: middle;\n",
       "    }\n",
       "\n",
       "    .dataframe tbody tr th {\n",
       "        vertical-align: top;\n",
       "    }\n",
       "\n",
       "    .dataframe thead th {\n",
       "        text-align: right;\n",
       "    }\n",
       "</style>\n",
       "<table border=\"1\" class=\"dataframe\">\n",
       "  <thead>\n",
       "    <tr style=\"text-align: right;\">\n",
       "      <th></th>\n",
       "      <th>Matricule</th>\n",
       "      <th>Nom</th>\n",
       "      <th>Prenom</th>\n",
       "      <th>Age</th>\n",
       "      <th>GPA</th>\n",
       "    </tr>\n",
       "  </thead>\n",
       "  <tbody>\n",
       "    <tr>\n",
       "      <th>0</th>\n",
       "      <td>2022020131</td>\n",
       "      <td>Moka</td>\n",
       "      <td>Gedeon</td>\n",
       "      <td>23</td>\n",
       "      <td>A</td>\n",
       "    </tr>\n",
       "    <tr>\n",
       "      <th>1</th>\n",
       "      <td>2022020062</td>\n",
       "      <td>Muleli</td>\n",
       "      <td>Alpha</td>\n",
       "      <td>19</td>\n",
       "      <td>B</td>\n",
       "    </tr>\n",
       "    <tr>\n",
       "      <th>2</th>\n",
       "      <td>2022020042</td>\n",
       "      <td>Nyemabu</td>\n",
       "      <td>Dan</td>\n",
       "      <td>20</td>\n",
       "      <td>C</td>\n",
       "    </tr>\n",
       "    <tr>\n",
       "      <th>3</th>\n",
       "      <td>2022020054</td>\n",
       "      <td>Masimango</td>\n",
       "      <td>Prince</td>\n",
       "      <td>54</td>\n",
       "      <td>B</td>\n",
       "    </tr>\n",
       "  </tbody>\n",
       "</table>\n",
       "</div>"
      ],
      "text/plain": [
       "    Matricule        Nom  Prenom Age GPA\n",
       "0  2022020131       Moka  Gedeon  23   A\n",
       "1  2022020062     Muleli   Alpha  19   B\n",
       "2  2022020042    Nyemabu     Dan  20   C\n",
       "3  2022020054  Masimango  Prince  54   B"
      ]
     },
     "execution_count": 51,
     "metadata": {},
     "output_type": "execute_result"
    }
   ],
   "source": [
    "# The first part is for ligne and the second after comma is for column\n",
    "donnees_etudiants.iloc[: , :]"
   ]
  },
  {
   "cell_type": "code",
   "execution_count": 50,
   "id": "e6d123f6-d219-4e82-8b8d-29504b17b6fa",
   "metadata": {},
   "outputs": [
    {
     "data": {
      "text/html": [
       "<div>\n",
       "<style scoped>\n",
       "    .dataframe tbody tr th:only-of-type {\n",
       "        vertical-align: middle;\n",
       "    }\n",
       "\n",
       "    .dataframe tbody tr th {\n",
       "        vertical-align: top;\n",
       "    }\n",
       "\n",
       "    .dataframe thead th {\n",
       "        text-align: right;\n",
       "    }\n",
       "</style>\n",
       "<table border=\"1\" class=\"dataframe\">\n",
       "  <thead>\n",
       "    <tr style=\"text-align: right;\">\n",
       "      <th></th>\n",
       "      <th>Matricule</th>\n",
       "      <th>Nom</th>\n",
       "      <th>Prenom</th>\n",
       "      <th>Age</th>\n",
       "      <th>GPA</th>\n",
       "    </tr>\n",
       "  </thead>\n",
       "  <tbody>\n",
       "    <tr>\n",
       "      <th>3</th>\n",
       "      <td>2022020054</td>\n",
       "      <td>Masimango</td>\n",
       "      <td>Prince</td>\n",
       "      <td>54</td>\n",
       "      <td>B</td>\n",
       "    </tr>\n",
       "  </tbody>\n",
       "</table>\n",
       "</div>"
      ],
      "text/plain": [
       "    Matricule        Nom  Prenom Age GPA\n",
       "3  2022020054  Masimango  Prince  54   B"
      ]
     },
     "execution_count": 50,
     "metadata": {},
     "output_type": "execute_result"
    }
   ],
   "source": [
    "# affiche à partir de l'index 3 excepté le 4\n",
    "donnees_etudiants.iloc[3:4 , :]"
   ]
  },
  {
   "cell_type": "code",
   "execution_count": 54,
   "id": "12c09ae2-c2be-421e-a60d-b6be4dbf32a8",
   "metadata": {},
   "outputs": [
    {
     "data": {
      "text/html": [
       "<div>\n",
       "<style scoped>\n",
       "    .dataframe tbody tr th:only-of-type {\n",
       "        vertical-align: middle;\n",
       "    }\n",
       "\n",
       "    .dataframe tbody tr th {\n",
       "        vertical-align: top;\n",
       "    }\n",
       "\n",
       "    .dataframe thead th {\n",
       "        text-align: right;\n",
       "    }\n",
       "</style>\n",
       "<table border=\"1\" class=\"dataframe\">\n",
       "  <thead>\n",
       "    <tr style=\"text-align: right;\">\n",
       "      <th></th>\n",
       "      <th>Age</th>\n",
       "    </tr>\n",
       "  </thead>\n",
       "  <tbody>\n",
       "    <tr>\n",
       "      <th>0</th>\n",
       "      <td>23</td>\n",
       "    </tr>\n",
       "    <tr>\n",
       "      <th>1</th>\n",
       "      <td>19</td>\n",
       "    </tr>\n",
       "    <tr>\n",
       "      <th>2</th>\n",
       "      <td>20</td>\n",
       "    </tr>\n",
       "    <tr>\n",
       "      <th>3</th>\n",
       "      <td>54</td>\n",
       "    </tr>\n",
       "  </tbody>\n",
       "</table>\n",
       "</div>"
      ],
      "text/plain": [
       "  Age\n",
       "0  23\n",
       "1  19\n",
       "2  20\n",
       "3  54"
      ]
     },
     "execution_count": 54,
     "metadata": {},
     "output_type": "execute_result"
    }
   ],
   "source": [
    "# afficher seulememt la colonne Age\n",
    "donnees_etudiants.iloc[: ,3:4]"
   ]
  },
  {
   "cell_type": "code",
   "execution_count": 56,
   "id": "3ff18c14-b8fb-41c7-a565-36333b0fcb2c",
   "metadata": {},
   "outputs": [
    {
     "data": {
      "text/html": [
       "<div>\n",
       "<style scoped>\n",
       "    .dataframe tbody tr th:only-of-type {\n",
       "        vertical-align: middle;\n",
       "    }\n",
       "\n",
       "    .dataframe tbody tr th {\n",
       "        vertical-align: top;\n",
       "    }\n",
       "\n",
       "    .dataframe thead th {\n",
       "        text-align: right;\n",
       "    }\n",
       "</style>\n",
       "<table border=\"1\" class=\"dataframe\">\n",
       "  <thead>\n",
       "    <tr style=\"text-align: right;\">\n",
       "      <th></th>\n",
       "      <th>Nom</th>\n",
       "    </tr>\n",
       "  </thead>\n",
       "  <tbody>\n",
       "    <tr>\n",
       "      <th>1</th>\n",
       "      <td>Muleli</td>\n",
       "    </tr>\n",
       "  </tbody>\n",
       "</table>\n",
       "</div>"
      ],
      "text/plain": [
       "      Nom\n",
       "1  Muleli"
      ]
     },
     "execution_count": 56,
     "metadata": {},
     "output_type": "execute_result"
    }
   ],
   "source": [
    "donnees_etudiants.iloc[1 : 2, 1: 2]"
   ]
  },
  {
   "cell_type": "code",
   "execution_count": 58,
   "id": "d6e8b5af-9a1f-467d-a6e1-591d55d3eecb",
   "metadata": {},
   "outputs": [],
   "source": [
    "# Ajouter les colonnes\n",
    "donnees_etudiants['Genre'] = ['M','M','F','M']\n",
    "donnees_etudiants['pourcentage'] = [76, 54, 65, 43]"
   ]
  },
  {
   "cell_type": "code",
   "execution_count": 59,
   "id": "fc2eaa04-97b8-49fa-8895-d34b959ea729",
   "metadata": {},
   "outputs": [
    {
     "data": {
      "text/html": [
       "<div>\n",
       "<style scoped>\n",
       "    .dataframe tbody tr th:only-of-type {\n",
       "        vertical-align: middle;\n",
       "    }\n",
       "\n",
       "    .dataframe tbody tr th {\n",
       "        vertical-align: top;\n",
       "    }\n",
       "\n",
       "    .dataframe thead th {\n",
       "        text-align: right;\n",
       "    }\n",
       "</style>\n",
       "<table border=\"1\" class=\"dataframe\">\n",
       "  <thead>\n",
       "    <tr style=\"text-align: right;\">\n",
       "      <th></th>\n",
       "      <th>Matricule</th>\n",
       "      <th>Nom</th>\n",
       "      <th>Prenom</th>\n",
       "      <th>Age</th>\n",
       "      <th>GPA</th>\n",
       "      <th>Genre</th>\n",
       "      <th>pourcentage</th>\n",
       "    </tr>\n",
       "  </thead>\n",
       "  <tbody>\n",
       "    <tr>\n",
       "      <th>0</th>\n",
       "      <td>2022020131</td>\n",
       "      <td>Moka</td>\n",
       "      <td>Gedeon</td>\n",
       "      <td>23</td>\n",
       "      <td>A</td>\n",
       "      <td>M</td>\n",
       "      <td>76</td>\n",
       "    </tr>\n",
       "    <tr>\n",
       "      <th>1</th>\n",
       "      <td>2022020062</td>\n",
       "      <td>Muleli</td>\n",
       "      <td>Alpha</td>\n",
       "      <td>19</td>\n",
       "      <td>B</td>\n",
       "      <td>M</td>\n",
       "      <td>54</td>\n",
       "    </tr>\n",
       "    <tr>\n",
       "      <th>2</th>\n",
       "      <td>2022020042</td>\n",
       "      <td>Nyemabu</td>\n",
       "      <td>Dan</td>\n",
       "      <td>20</td>\n",
       "      <td>C</td>\n",
       "      <td>F</td>\n",
       "      <td>65</td>\n",
       "    </tr>\n",
       "    <tr>\n",
       "      <th>3</th>\n",
       "      <td>2022020054</td>\n",
       "      <td>Masimango</td>\n",
       "      <td>Prince</td>\n",
       "      <td>54</td>\n",
       "      <td>B</td>\n",
       "      <td>M</td>\n",
       "      <td>43</td>\n",
       "    </tr>\n",
       "  </tbody>\n",
       "</table>\n",
       "</div>"
      ],
      "text/plain": [
       "    Matricule        Nom  Prenom Age GPA Genre  pourcentage\n",
       "0  2022020131       Moka  Gedeon  23   A     M           76\n",
       "1  2022020062     Muleli   Alpha  19   B     M           54\n",
       "2  2022020042    Nyemabu     Dan  20   C     F           65\n",
       "3  2022020054  Masimango  Prince  54   B     M           43"
      ]
     },
     "execution_count": 59,
     "metadata": {},
     "output_type": "execute_result"
    }
   ],
   "source": [
    "donnees_etudiants"
   ]
  },
  {
   "cell_type": "code",
   "execution_count": 61,
   "id": "e899c790-04be-407b-a603-3f589b783212",
   "metadata": {},
   "outputs": [],
   "source": [
    "# Supprimer la colonne GPA\n",
    "donnees_etudiants.drop(columns='GPA', inplace=True, axis=1)"
   ]
  },
  {
   "cell_type": "code",
   "execution_count": 62,
   "id": "0d90adf1-f413-4532-b72c-614d838e0f9e",
   "metadata": {},
   "outputs": [
    {
     "data": {
      "text/html": [
       "<div>\n",
       "<style scoped>\n",
       "    .dataframe tbody tr th:only-of-type {\n",
       "        vertical-align: middle;\n",
       "    }\n",
       "\n",
       "    .dataframe tbody tr th {\n",
       "        vertical-align: top;\n",
       "    }\n",
       "\n",
       "    .dataframe thead th {\n",
       "        text-align: right;\n",
       "    }\n",
       "</style>\n",
       "<table border=\"1\" class=\"dataframe\">\n",
       "  <thead>\n",
       "    <tr style=\"text-align: right;\">\n",
       "      <th></th>\n",
       "      <th>Matricule</th>\n",
       "      <th>Nom</th>\n",
       "      <th>Prenom</th>\n",
       "      <th>Age</th>\n",
       "      <th>Genre</th>\n",
       "      <th>pourcentage</th>\n",
       "    </tr>\n",
       "  </thead>\n",
       "  <tbody>\n",
       "    <tr>\n",
       "      <th>0</th>\n",
       "      <td>2022020131</td>\n",
       "      <td>Moka</td>\n",
       "      <td>Gedeon</td>\n",
       "      <td>23</td>\n",
       "      <td>M</td>\n",
       "      <td>76</td>\n",
       "    </tr>\n",
       "    <tr>\n",
       "      <th>1</th>\n",
       "      <td>2022020062</td>\n",
       "      <td>Muleli</td>\n",
       "      <td>Alpha</td>\n",
       "      <td>19</td>\n",
       "      <td>M</td>\n",
       "      <td>54</td>\n",
       "    </tr>\n",
       "    <tr>\n",
       "      <th>2</th>\n",
       "      <td>2022020042</td>\n",
       "      <td>Nyemabu</td>\n",
       "      <td>Dan</td>\n",
       "      <td>20</td>\n",
       "      <td>F</td>\n",
       "      <td>65</td>\n",
       "    </tr>\n",
       "    <tr>\n",
       "      <th>3</th>\n",
       "      <td>2022020054</td>\n",
       "      <td>Masimango</td>\n",
       "      <td>Prince</td>\n",
       "      <td>54</td>\n",
       "      <td>M</td>\n",
       "      <td>43</td>\n",
       "    </tr>\n",
       "  </tbody>\n",
       "</table>\n",
       "</div>"
      ],
      "text/plain": [
       "    Matricule        Nom  Prenom Age Genre  pourcentage\n",
       "0  2022020131       Moka  Gedeon  23     M           76\n",
       "1  2022020062     Muleli   Alpha  19     M           54\n",
       "2  2022020042    Nyemabu     Dan  20     F           65\n",
       "3  2022020054  Masimango  Prince  54     M           43"
      ]
     },
     "execution_count": 62,
     "metadata": {},
     "output_type": "execute_result"
    }
   ],
   "source": [
    "donnees_etudiants"
   ]
  },
  {
   "cell_type": "code",
   "execution_count": 66,
   "id": "13e0b150-ef14-408d-9570-df14d477cc6e",
   "metadata": {},
   "outputs": [],
   "source": [
    "# Convertir la colonne Genre  en M = 1 et F=0\n",
    "# Mapping de la colonne Genre\n",
    "Mapping_Genre = {\n",
    "    'M': 1,\n",
    "    'F':0\n",
    "}\n",
    "donnees_etudiants['Genre'] = donnees_etudiants['Genre'].map(Mapping_Genre)"
   ]
  },
  {
   "cell_type": "code",
   "execution_count": 67,
   "id": "fb0b7a84-88ce-4946-be06-0151d3a0e9b1",
   "metadata": {},
   "outputs": [
    {
     "data": {
      "text/html": [
       "<div>\n",
       "<style scoped>\n",
       "    .dataframe tbody tr th:only-of-type {\n",
       "        vertical-align: middle;\n",
       "    }\n",
       "\n",
       "    .dataframe tbody tr th {\n",
       "        vertical-align: top;\n",
       "    }\n",
       "\n",
       "    .dataframe thead th {\n",
       "        text-align: right;\n",
       "    }\n",
       "</style>\n",
       "<table border=\"1\" class=\"dataframe\">\n",
       "  <thead>\n",
       "    <tr style=\"text-align: right;\">\n",
       "      <th></th>\n",
       "      <th>Matricule</th>\n",
       "      <th>Nom</th>\n",
       "      <th>Prenom</th>\n",
       "      <th>Age</th>\n",
       "      <th>Genre</th>\n",
       "      <th>pourcentage</th>\n",
       "    </tr>\n",
       "  </thead>\n",
       "  <tbody>\n",
       "    <tr>\n",
       "      <th>0</th>\n",
       "      <td>2022020131</td>\n",
       "      <td>Moka</td>\n",
       "      <td>Gedeon</td>\n",
       "      <td>23</td>\n",
       "      <td>1</td>\n",
       "      <td>76</td>\n",
       "    </tr>\n",
       "    <tr>\n",
       "      <th>1</th>\n",
       "      <td>2022020062</td>\n",
       "      <td>Muleli</td>\n",
       "      <td>Alpha</td>\n",
       "      <td>19</td>\n",
       "      <td>1</td>\n",
       "      <td>54</td>\n",
       "    </tr>\n",
       "    <tr>\n",
       "      <th>2</th>\n",
       "      <td>2022020042</td>\n",
       "      <td>Nyemabu</td>\n",
       "      <td>Dan</td>\n",
       "      <td>20</td>\n",
       "      <td>0</td>\n",
       "      <td>65</td>\n",
       "    </tr>\n",
       "    <tr>\n",
       "      <th>3</th>\n",
       "      <td>2022020054</td>\n",
       "      <td>Masimango</td>\n",
       "      <td>Prince</td>\n",
       "      <td>54</td>\n",
       "      <td>1</td>\n",
       "      <td>43</td>\n",
       "    </tr>\n",
       "  </tbody>\n",
       "</table>\n",
       "</div>"
      ],
      "text/plain": [
       "    Matricule        Nom  Prenom Age  Genre  pourcentage\n",
       "0  2022020131       Moka  Gedeon  23      1           76\n",
       "1  2022020062     Muleli   Alpha  19      1           54\n",
       "2  2022020042    Nyemabu     Dan  20      0           65\n",
       "3  2022020054  Masimango  Prince  54      1           43"
      ]
     },
     "execution_count": 67,
     "metadata": {},
     "output_type": "execute_result"
    }
   ],
   "source": [
    "donnees_etudiants"
   ]
  },
  {
   "cell_type": "markdown",
   "id": "2af3f72e-44a4-44a0-b8a3-6cbf3831e8d4",
   "metadata": {},
   "source": [
    "# D.VISUALISATION DES DONNEES"
   ]
  },
  {
   "cell_type": "code",
   "execution_count": 15,
   "id": "d8d47f01-cb4c-4226-b47a-9cf7f98fe687",
   "metadata": {},
   "outputs": [],
   "source": [
    "# Creation des donnees\n",
    "X = np.linspace(0 ,2 ,10)"
   ]
  },
  {
   "cell_type": "code",
   "execution_count": 16,
   "id": "71682743-d3d1-46db-b107-db345069716b",
   "metadata": {},
   "outputs": [
    {
     "data": {
      "text/plain": [
       "array([0.        , 0.22222222, 0.44444444, 0.66666667, 0.88888889,\n",
       "       1.11111111, 1.33333333, 1.55555556, 1.77777778, 2.        ])"
      ]
     },
     "execution_count": 16,
     "metadata": {},
     "output_type": "execute_result"
    }
   ],
   "source": [
    "X"
   ]
  },
  {
   "cell_type": "code",
   "execution_count": 12,
   "id": "ba7b254a-1935-4b74-ba55-3186d846544b",
   "metadata": {},
   "outputs": [
    {
     "data": {
      "text/plain": [
       "<matplotlib.legend.Legend at 0x1ff3389aa40>"
      ]
     },
     "execution_count": 12,
     "metadata": {},
     "output_type": "execute_result"
    },
    {
     "data": {
      "image/png": "[encoded data removed]",
      "text/plain": [
       "<Figure size 600x400 with 1 Axes>"
      ]
     },
     "metadata": {},
     "output_type": "display_data"
    }
   ],
   "source": [
    "# import matplotlib\n",
    "import matplotlib.pyplot as plt\n",
    "fig, ax =plt.subplots(figsize=(6, 4))\n",
    "ax.plot(X, X*2, label='Double')\n",
    "ax.plot(X, X**2, label='Caree de X')\n",
    "ax.plot(X, X**3, label='Cube de X')\n",
    "ax.set_xlabel('Donnees de X')\n",
    "ax.set_ylabel('Donnees de Y')\n",
    "plt.title('Donnees de linspace entree 0 et 2')\n",
    "ax.legend()"
   ]
  },
  {
   "cell_type": "code",
   "execution_count": 13,
   "id": "400adeb8-8a39-4ee6-864b-d1ed7d6f1cd0",
   "metadata": {},
   "outputs": [],
   "source": [
    "# importation de seaborn\n",
    "import seaborn as sns"
   ]
  },
  {
   "cell_type": "code",
   "execution_count": 19,
   "id": "c5398263-9fbb-4a2f-8f49-ec580e882272",
   "metadata": {},
   "outputs": [],
   "source": [
    "iris_data = sns.load_dataset('iris')"
   ]
  },
  {
   "cell_type": "code",
   "execution_count": 20,
   "id": "9d11364b-f0dd-4f57-9181-f454e9588e17",
   "metadata": {},
   "outputs": [
    {
     "data": {
      "text/html": [
       "<div>\n",
       "<style scoped>\n",
       "    .dataframe tbody tr th:only-of-type {\n",
       "        vertical-align: middle;\n",
       "    }\n",
       "\n",
       "    .dataframe tbody tr th {\n",
       "        vertical-align: top;\n",
       "    }\n",
       "\n",
       "    .dataframe thead th {\n",
       "        text-align: right;\n",
       "    }\n",
       "</style>\n",
       "<table border=\"1\" class=\"dataframe\">\n",
       "  <thead>\n",
       "    <tr style=\"text-align: right;\">\n",
       "      <th></th>\n",
       "      <th>sepal_length</th>\n",
       "      <th>sepal_width</th>\n",
       "      <th>petal_length</th>\n",
       "      <th>petal_width</th>\n",
       "      <th>species</th>\n",
       "    </tr>\n",
       "  </thead>\n",
       "  <tbody>\n",
       "    <tr>\n",
       "      <th>0</th>\n",
       "      <td>5.1</td>\n",
       "      <td>3.5</td>\n",
       "      <td>1.4</td>\n",
       "      <td>0.2</td>\n",
       "      <td>setosa</td>\n",
       "    </tr>\n",
       "    <tr>\n",
       "      <th>1</th>\n",
       "      <td>4.9</td>\n",
       "      <td>3.0</td>\n",
       "      <td>1.4</td>\n",
       "      <td>0.2</td>\n",
       "      <td>setosa</td>\n",
       "    </tr>\n",
       "    <tr>\n",
       "      <th>2</th>\n",
       "      <td>4.7</td>\n",
       "      <td>3.2</td>\n",
       "      <td>1.3</td>\n",
       "      <td>0.2</td>\n",
       "      <td>setosa</td>\n",
       "    </tr>\n",
       "    <tr>\n",
       "      <th>3</th>\n",
       "      <td>4.6</td>\n",
       "      <td>3.1</td>\n",
       "      <td>1.5</td>\n",
       "      <td>0.2</td>\n",
       "      <td>setosa</td>\n",
       "    </tr>\n",
       "    <tr>\n",
       "      <th>4</th>\n",
       "      <td>5.0</td>\n",
       "      <td>3.6</td>\n",
       "      <td>1.4</td>\n",
       "      <td>0.2</td>\n",
       "      <td>setosa</td>\n",
       "    </tr>\n",
       "  </tbody>\n",
       "</table>\n",
       "</div>"
      ],
      "text/plain": [
       "   sepal_length  sepal_width  petal_length  petal_width species\n",
       "0           5.1          3.5           1.4          0.2  setosa\n",
       "1           4.9          3.0           1.4          0.2  setosa\n",
       "2           4.7          3.2           1.3          0.2  setosa\n",
       "3           4.6          3.1           1.5          0.2  setosa\n",
       "4           5.0          3.6           1.4          0.2  setosa"
      ]
     },
     "execution_count": 20,
     "metadata": {},
     "output_type": "execute_result"
    }
   ],
   "source": [
    "iris_data.head()"
   ]
  },
  {
   "cell_type": "code",
   "execution_count": 21,
   "id": "79e95868-e8a0-472a-98f9-8a977a8647a5",
   "metadata": {},
   "outputs": [
    {
     "data": {
      "text/plain": [
       "(150, 5)"
      ]
     },
     "execution_count": 21,
     "metadata": {},
     "output_type": "execute_result"
    }
   ],
   "source": [
    "iris_data.shape"
   ]
  },
  {
   "cell_type": "code",
   "execution_count": 22,
   "id": "24cc59dd-6a89-413a-932b-a4ebb39bc60b",
   "metadata": {},
   "outputs": [
    {
     "data": {
      "text/plain": [
       "array(['setosa', 'versicolor', 'virginica'], dtype=object)"
      ]
     },
     "execution_count": 22,
     "metadata": {},
     "output_type": "execute_result"
    }
   ],
   "source": [
    "iris_data['species'].unique()"
   ]
  },
  {
   "cell_type": "code",
   "execution_count": 24,
   "id": "2ce46a53-3307-4128-a6ce-3799d62e5dea",
   "metadata": {},
   "outputs": [
    {
     "data": {
      "text/plain": [
       "<Axes: xlabel='sepal_length', ylabel='sepal_width'>"
      ]
     },
     "execution_count": 24,
     "metadata": {},
     "output_type": "execute_result"
    },
    {
     "data": {
      "image/png": "[encoded data removed]",
      "text/plain": [
       "<Figure size 640x480 with 1 Axes>"
      ]
     },
     "metadata": {},
     "output_type": "display_data"
    }
   ],
   "source": [
    "sns.scatterplot(x='sepal_length', y='sepal_width', data=iris_data, hue='species')"
   ]
  },
  {
   "cell_type": "code",
   "execution_count": 25,
   "id": "604fc8ea-d786-485f-a915-61d81a9b2f55",
   "metadata": {},
   "outputs": [],
   "source": [
    "Mapping_species = {\n",
    "    'setosa': 0,\n",
    "    'versicolor':1,\n",
    "    'virginica':2\n",
    "}\n",
    "iris_data['species'] = iris_data['species'].map(Mapping_species)"
   ]
  },
  {
   "cell_type": "code",
   "execution_count": 26,
   "id": "199beafc-3d94-4fbf-830d-bae85afe33b7",
   "metadata": {},
   "outputs": [
    {
     "data": {
      "text/html": [
       "<div>\n",
       "<style scoped>\n",
       "    .dataframe tbody tr th:only-of-type {\n",
       "        vertical-align: middle;\n",
       "    }\n",
       "\n",
       "    .dataframe tbody tr th {\n",
       "        vertical-align: top;\n",
       "    }\n",
       "\n",
       "    .dataframe thead th {\n",
       "        text-align: right;\n",
       "    }\n",
       "</style>\n",
       "<table border=\"1\" class=\"dataframe\">\n",
       "  <thead>\n",
       "    <tr style=\"text-align: right;\">\n",
       "      <th></th>\n",
       "      <th>sepal_length</th>\n",
       "      <th>sepal_width</th>\n",
       "      <th>petal_length</th>\n",
       "      <th>petal_width</th>\n",
       "      <th>species</th>\n",
       "    </tr>\n",
       "  </thead>\n",
       "  <tbody>\n",
       "    <tr>\n",
       "      <th>0</th>\n",
       "      <td>5.1</td>\n",
       "      <td>3.5</td>\n",
       "      <td>1.4</td>\n",
       "      <td>0.2</td>\n",
       "      <td>0</td>\n",
       "    </tr>\n",
       "    <tr>\n",
       "      <th>1</th>\n",
       "      <td>4.9</td>\n",
       "      <td>3.0</td>\n",
       "      <td>1.4</td>\n",
       "      <td>0.2</td>\n",
       "      <td>0</td>\n",
       "    </tr>\n",
       "    <tr>\n",
       "      <th>2</th>\n",
       "      <td>4.7</td>\n",
       "      <td>3.2</td>\n",
       "      <td>1.3</td>\n",
       "      <td>0.2</td>\n",
       "      <td>0</td>\n",
       "    </tr>\n",
       "    <tr>\n",
       "      <th>3</th>\n",
       "      <td>4.6</td>\n",
       "      <td>3.1</td>\n",
       "      <td>1.5</td>\n",
       "      <td>0.2</td>\n",
       "      <td>0</td>\n",
       "    </tr>\n",
       "    <tr>\n",
       "      <th>4</th>\n",
       "      <td>5.0</td>\n",
       "      <td>3.6</td>\n",
       "      <td>1.4</td>\n",
       "      <td>0.2</td>\n",
       "      <td>0</td>\n",
       "    </tr>\n",
       "    <tr>\n",
       "      <th>...</th>\n",
       "      <td>...</td>\n",
       "      <td>...</td>\n",
       "      <td>...</td>\n",
       "      <td>...</td>\n",
       "      <td>...</td>\n",
       "    </tr>\n",
       "    <tr>\n",
       "      <th>145</th>\n",
       "      <td>6.7</td>\n",
       "      <td>3.0</td>\n",
       "      <td>5.2</td>\n",
       "      <td>2.3</td>\n",
       "      <td>2</td>\n",
       "    </tr>\n",
       "    <tr>\n",
       "      <th>146</th>\n",
       "      <td>6.3</td>\n",
       "      <td>2.5</td>\n",
       "      <td>5.0</td>\n",
       "      <td>1.9</td>\n",
       "      <td>2</td>\n",
       "    </tr>\n",
       "    <tr>\n",
       "      <th>147</th>\n",
       "      <td>6.5</td>\n",
       "      <td>3.0</td>\n",
       "      <td>5.2</td>\n",
       "      <td>2.0</td>\n",
       "      <td>2</td>\n",
       "    </tr>\n",
       "    <tr>\n",
       "      <th>148</th>\n",
       "      <td>6.2</td>\n",
       "      <td>3.4</td>\n",
       "      <td>5.4</td>\n",
       "      <td>2.3</td>\n",
       "      <td>2</td>\n",
       "    </tr>\n",
       "    <tr>\n",
       "      <th>149</th>\n",
       "      <td>5.9</td>\n",
       "      <td>3.0</td>\n",
       "      <td>5.1</td>\n",
       "      <td>1.8</td>\n",
       "      <td>2</td>\n",
       "    </tr>\n",
       "  </tbody>\n",
       "</table>\n",
       "<p>150 rows × 5 columns</p>\n",
       "</div>"
      ],
      "text/plain": [
       "     sepal_length  sepal_width  petal_length  petal_width  species\n",
       "0             5.1          3.5           1.4          0.2        0\n",
       "1             4.9          3.0           1.4          0.2        0\n",
       "2             4.7          3.2           1.3          0.2        0\n",
       "3             4.6          3.1           1.5          0.2        0\n",
       "4             5.0          3.6           1.4          0.2        0\n",
       "..            ...          ...           ...          ...      ...\n",
       "145           6.7          3.0           5.2          2.3        2\n",
       "146           6.3          2.5           5.0          1.9        2\n",
       "147           6.5          3.0           5.2          2.0        2\n",
       "148           6.2          3.4           5.4          2.3        2\n",
       "149           5.9          3.0           5.1          1.8        2\n",
       "\n",
       "[150 rows x 5 columns]"
      ]
     },
     "execution_count": 26,
     "metadata": {},
     "output_type": "execute_result"
    }
   ],
   "source": [
    "iris_data"
   ]
  },
  {
   "cell_type": "code",
   "execution_count": 27,
   "id": "8ba28a86-6bf7-4bc7-b70c-1232554bd578",
   "metadata": {},
   "outputs": [
    {
     "data": {
      "text/plain": [
       "array([0, 1, 2])"
      ]
     },
     "execution_count": 27,
     "metadata": {},
     "output_type": "execute_result"
    }
   ],
   "source": [
    "iris_data['species'].unique()"
   ]
  },
  {
   "cell_type": "code",
   "execution_count": null,
   "id": "f82b3828-ad6b-49c8-ae5e-0679bd7841f8",
   "metadata": {},
   "outputs": [],
   "source": []
  }
 ],
 "metadata": {
  "kernelspec": {
   "display_name": "Python 3 (ipykernel)",
   "language": "python",
   "name": "python3"
  },
  "language_info": {
   "codemirror_mode": {
    "name": "ipython",
    "version": 3
   },
   "file_extension": ".py",
   "mimetype": "text/x-python",
   "name": "python",
   "nbconvert_exporter": "python",
   "pygments_lexer": "ipython3",
   "version": "3.10.16"
  }
 },
 "nbformat": 4,
 "nbformat_minor": 5
}
